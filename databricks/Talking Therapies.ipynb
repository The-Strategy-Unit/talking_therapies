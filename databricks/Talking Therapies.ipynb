{
 "cells": [
  {
   "cell_type": "markdown",
   "metadata": {
    "application/vnd.databricks.v1+cell": {
     "cellMetadata": {
      "byteLimit": 2048000,
      "rowLimit": 10000
     },
     "inputWidgets": {},
     "nuid": "e9b154e7-1d23-42dd-a99e-6c2f318e36d6",
     "showTitle": false,
     "tableResultSettingsMap": {},
     "title": ""
    }
   },
   "source": [
    "# Talking Therapies\n",
    "Data exploration worksheet."
   ]
  },
  {
   "cell_type": "markdown",
   "metadata": {
    "application/vnd.databricks.v1+cell": {
     "cellMetadata": {
      "byteLimit": 2048000,
      "rowLimit": 10000
     },
     "inputWidgets": {},
     "nuid": "b3d0570a-a191-4c47-bf9d-51ff804108ac",
     "showTitle": false,
     "tableResultSettingsMap": {},
     "title": ""
    }
   },
   "source": [
    "## Data load\n",
    "- Function imports\n",
    "- Base table loads"
   ]
  },
  {
   "cell_type": "markdown",
   "metadata": {
    "application/vnd.databricks.v1+cell": {
     "cellMetadata": {
      "byteLimit": 2048000,
      "rowLimit": 10000
     },
     "inputWidgets": {},
     "nuid": "2c5520cc-6487-42a9-9cb1-d6a0b2871a25",
     "showTitle": false,
     "tableResultSettingsMap": {},
     "title": ""
    }
   },
   "source": [
    "### Set up"
   ]
  },
  {
   "cell_type": "code",
   "execution_count": 0,
   "metadata": {
    "application/vnd.databricks.v1+cell": {
     "cellMetadata": {
      "byteLimit": 2048000,
      "rowLimit": 10000
     },
     "inputWidgets": {},
     "nuid": "b6aad05c-1de4-4a1b-ae08-7e657e9eec41",
     "showTitle": true,
     "tableResultSettingsMap": {},
     "title": "Flags"
    }
   },
   "outputs": [],
   "source": [
    "# should 'data check' calculations be performed?\n",
    "global flag_data_check, flag_data_display, flag_data_export\n",
    "\n",
    "flag_data_check = False # should data checks be performed?\n",
    "flag_data_display = False # should data be displayed?\n",
    "flag_data_export = True # should data be exported?"
   ]
  },
  {
   "cell_type": "code",
   "execution_count": 0,
   "metadata": {
    "application/vnd.databricks.v1+cell": {
     "cellMetadata": {
      "byteLimit": 2048000,
      "rowLimit": 10000
     },
     "inputWidgets": {},
     "nuid": "c2a48871-50b5-4d19-ae7b-640637f92639",
     "showTitle": true,
     "tableResultSettingsMap": {},
     "title": "Imports"
    }
   },
   "outputs": [],
   "source": [
    "# imports\n",
    "import pyspark.sql.functions as F\n",
    "from pyspark.sql import Window as W"
   ]
  },
  {
   "cell_type": "code",
   "execution_count": 0,
   "metadata": {
    "application/vnd.databricks.v1+cell": {
     "cellMetadata": {
      "byteLimit": 2048000,
      "rowLimit": 10000
     },
     "inputWidgets": {},
     "nuid": "c42591c5-ba4f-4783-8b63-b394386469da",
     "showTitle": true,
     "tableResultSettingsMap": {},
     "title": "Paths"
    }
   },
   "outputs": [],
   "source": [
    "# set path to iapt referrals\n",
    "lake = \"udalstdatacuratedprod.dfs.core.windows.net\"\n",
    "container = \"restricted\"\n",
    "file = \"/patientlevel/MESH/IAPT/IDS101referral/Published/2/\"\n",
    "iapt_path_referral = \"abfss://\" + container + \"@\" + lake + file\n",
    "\n",
    "# set path to iapt mpi\n",
    "lake = \"udalstdatacuratedprod.dfs.core.windows.net\"\n",
    "container = \"restricted\"\n",
    "file = \"/patientlevel/MESH/IAPT/IDS001mpi/Published/3/\"\n",
    "iapt_path_mpi = \"abfss://\" + container + \"@\" + lake + file\n",
    "\n",
    "# set path to iapt contacts\n",
    "lake = \"udalstdatacuratedprod.dfs.core.windows.net\"\n",
    "container = \"restricted\"\n",
    "file = \"/patientlevel/MESH/IAPT/IDS201carecontact/Published/2/\"\n",
    "iapt_path_contact = \"abfss://\" + container + \"@\" + lake + file\n",
    "\n",
    "# set path to organisation details\n",
    "lake = \"udalstdatacuratedprod.dfs.core.windows.net\"\n",
    "container = \"unrestricted\"\n",
    "file = \"/reference/UKHD/ODS_API/vwOrganisation_SCD_IsLatestEqualsOneWithRole\"\n",
    "ods_path = \"abfss://\" + container + \"@\" + lake + file\n",
    "\n",
    "# set path to lake mart\n",
    "# https://udalstdataanalysisprod.dfs.core.windows.net/analytics-projects/StrategyUnit/StrategyUnit/Evaluation/E004546-0001_Talking_Therapies/\n",
    "lake = \"udalstdataanalysisprod.dfs.core.windows.net\"\n",
    "container = \"analytics-projects\"\n",
    "folder = \"/StrategyUnit/StrategyUnit/Evaluation/E004546-0001_Talking_Therapies/\"\n",
    "eval_path = \"abfss://\" + container + \"@\" + lake + folder\n"
   ]
  },
  {
   "cell_type": "markdown",
   "metadata": {
    "application/vnd.databricks.v1+cell": {
     "cellMetadata": {
      "byteLimit": 2048000,
      "rowLimit": 10000
     },
     "inputWidgets": {},
     "nuid": "874fb7f7-07e0-49f5-83da-1724a2191897",
     "showTitle": false,
     "tableResultSettingsMap": {},
     "title": ""
    }
   },
   "source": [
    "### IAPT referrals"
   ]
  },
  {
   "cell_type": "code",
   "execution_count": 0,
   "metadata": {
    "application/vnd.databricks.v1+cell": {
     "cellMetadata": {
      "byteLimit": 2048000,
      "rowLimit": 10000
     },
     "inputWidgets": {},
     "nuid": "7c396f83-0b0e-4b7d-8c8a-9fefd96e7959",
     "showTitle": true,
     "tableResultSettingsMap": {},
     "title": "IAPT referrals"
    }
   },
   "outputs": [],
   "source": [
    "iapt_referrals = spark.read.option(\"header\", \"true\").option(\"recursiveFileLookup\", \"true\").parquet(iapt_path_referral)\n",
    "\n",
    "if flag_data_display:\n",
    "    iapt_referrals.limit(10).display()"
   ]
  },
  {
   "cell_type": "code",
   "execution_count": 0,
   "metadata": {
    "application/vnd.databricks.v1+cell": {
     "cellMetadata": {
      "byteLimit": 2048000,
      "rowLimit": 10000
     },
     "inputWidgets": {},
     "nuid": "4a1b80cf-fb26-4e95-982c-e706eece5504",
     "showTitle": true,
     "tableResultSettingsMap": {},
     "title": "CHECK: are PathwayIDs unique?"
    }
   },
   "outputs": [],
   "source": [
    "if flag_data_check:\n",
    "    check_iapt_referral_id_unique = iapt_referrals \\\n",
    "        .groupBy(\"PathwayID\").count().filter(F.col(\"count\") > 1)\n",
    "\n",
    "    if flag_data_display:\n",
    "        display(check_iapt_referral_id_unique)"
   ]
  },
  {
   "cell_type": "code",
   "execution_count": 0,
   "metadata": {
    "application/vnd.databricks.v1+cell": {
     "cellMetadata": {
      "byteLimit": 2048000,
      "rowLimit": 10000
     },
     "inputWidgets": {},
     "nuid": "06266fa8-4dd6-4b15-b3ec-e8cf778eafc4",
     "showTitle": true,
     "tableResultSettingsMap": {
      "0": {
       "dataGridStateBlob": "{\"version\":1,\"tableState\":{\"columnPinning\":{\"left\":[\"#row_number#\"],\"right\":[]},\"columnSizing\":{},\"columnVisibility\":{}},\"settings\":{\"columns\":{}},\"syncTimestamp\":1752221893892}",
       "filterBlob": null,
       "queryPlanFiltersBlob": null,
       "tableResultIndex": 0
      }
     },
     "title": "CHECK: lets see some examples"
    }
   },
   "outputs": [],
   "source": [
    "if flag_data_check:\n",
    "        iapt_referrals.filter(F.col(\"PathwayID\") == \"6d6a4bfda814475ba409586a19dce42e\").orderBy(\"EFFECTIVE_FROM\").display()"
   ]
  },
  {
   "cell_type": "markdown",
   "metadata": {
    "application/vnd.databricks.v1+cell": {
     "cellMetadata": {
      "byteLimit": 2048000,
      "rowLimit": 10000
     },
     "inputWidgets": {},
     "nuid": "d6d33faf-c887-406e-b237-2782881d9cbb",
     "showTitle": false,
     "tableResultSettingsMap": {},
     "title": ""
    }
   },
   "source": [
    "There are multiple records per `PathwayID`, where the same referral was reported over subsequent months. There are also seemingly duplicates of the same record (same `EFFECTIVE_FROM` timestamp and same `UDALFieldID` and same `UniqueID_IDS101`, which means it's not very unique). Plan:\n",
    "- Filter for the latest `EFFECTIVE_FROM` timestamp per `PathwayID`, use a rownumber approach to ensure only one record is returned per `PathwayID` as the official version.\n",
    "\n",
    "## update 2025-07-11\n",
    "Since setting the referral path to only include 'Published' data and selecting a specific version of published data, the `UniqueID_IDS101` is now unique among the list of records. There are still multiple records per `PathwayID` but these all appear to be submissions made over multiple months whilst this referral was active, and is to be expected."
   ]
  },
  {
   "cell_type": "code",
   "execution_count": 0,
   "metadata": {
    "application/vnd.databricks.v1+cell": {
     "cellMetadata": {
      "byteLimit": 2048000,
      "rowLimit": 10000
     },
     "inputWidgets": {},
     "nuid": "a0c81b12-3355-4bf4-a0c2-2878bd02eb03",
     "showTitle": true,
     "tableResultSettingsMap": {},
     "title": "Get the latest record per referral"
    }
   },
   "outputs": [],
   "source": [
    "# define a window spec for each person in MPI\n",
    "window_spec = W.partitionBy(\"PathwayID\").orderBy(F.col(\"EFFECTIVE_FROM\").desc())\n",
    "\n",
    "# get the latest record for each person\n",
    "iapt_referrals_latest = (\n",
    "    iapt_referrals\n",
    "        .withColumn(\"row_number\", F.row_number().over(window_spec)) # assign 1,2,3... within each id\n",
    "        .filter(F.col(\"row_number\") == 1) # keep only top row per id\n",
    "        .drop(\"row_number\")\n",
    ")\n",
    "\n",
    "if flag_data_display:\n",
    "    iapt_referrals_latest.limit(10).display()"
   ]
  },
  {
   "cell_type": "code",
   "execution_count": 0,
   "metadata": {
    "application/vnd.databricks.v1+cell": {
     "cellMetadata": {
      "byteLimit": 2048000,
      "rowLimit": 10000
     },
     "inputWidgets": {},
     "nuid": "452732eb-cd97-48fd-8e6a-7a9853c0debe",
     "showTitle": true,
     "tableResultSettingsMap": {},
     "title": "CHECK: are `PathwayID` unique now?"
    }
   },
   "outputs": [],
   "source": [
    "if flag_data_check:\n",
    "    check_iapt_referral_id_unique_v2 = iapt_referrals_latest \\\n",
    "        .groupBy(\"PathwayID\").count().filter(F.col(\"count\") > 1)\n",
    "\n",
    "    if flag_data_display:\n",
    "        display(check_iapt_referral_id_unique_v2)"
   ]
  },
  {
   "cell_type": "markdown",
   "metadata": {
    "application/vnd.databricks.v1+cell": {
     "cellMetadata": {
      "byteLimit": 2048000,
      "rowLimit": 10000
     },
     "inputWidgets": {},
     "nuid": "05077a2d-d761-4cf5-b42c-60bae7264b33",
     "showTitle": false,
     "tableResultSettingsMap": {},
     "title": ""
    }
   },
   "source": [
    "Yes, they're unique now."
   ]
  },
  {
   "cell_type": "markdown",
   "metadata": {
    "application/vnd.databricks.v1+cell": {
     "cellMetadata": {
      "byteLimit": 2048000,
      "rowLimit": 10000
     },
     "inputWidgets": {},
     "nuid": "6de6e98c-c1a4-4002-baa0-2ee64c5ff6c6",
     "showTitle": false,
     "tableResultSettingsMap": {},
     "title": ""
    }
   },
   "source": [
    "### IAPT MPI\n",
    "Get some details for the patient, such as deprivation (based on LSOA), gender identity, langauge, ethnicity."
   ]
  },
  {
   "cell_type": "code",
   "execution_count": 0,
   "metadata": {
    "application/vnd.databricks.v1+cell": {
     "cellMetadata": {
      "byteLimit": 2048000,
      "rowLimit": 10000
     },
     "inputWidgets": {},
     "nuid": "4704dbd6-8fa3-4935-ac5c-98f07fc26470",
     "showTitle": true,
     "tableResultSettingsMap": {},
     "title": "IAPT MPI"
    }
   },
   "outputs": [],
   "source": [
    "iapt_mpi = spark.read.option(\"header\", \"true\").option(\"recursiveFileLookup\", \"true\").parquet(iapt_path_mpi)\n",
    "\n",
    "if flag_data_display:\n",
    "    iapt_mpi.limit(10).display()"
   ]
  },
  {
   "cell_type": "code",
   "execution_count": 0,
   "metadata": {
    "application/vnd.databricks.v1+cell": {
     "cellMetadata": {
      "byteLimit": 2048000,
      "rowLimit": 10000
     },
     "inputWidgets": {},
     "nuid": "5db5521d-40df-449f-a3b2-049f75264e73",
     "showTitle": true,
     "tableResultSettingsMap": {
      "0": {
       "dataGridStateBlob": "{\"version\":1,\"tableState\":{\"columnPinning\":{\"left\":[\"#row_number#\"],\"right\":[]},\"columnSizing\":{},\"columnVisibility\":{}},\"settings\":{\"columns\":{}},\"syncTimestamp\":1752223625047}",
       "filterBlob": null,
       "queryPlanFiltersBlob": null,
       "tableResultIndex": 0
      }
     },
     "title": "CHECK: are `UniqueID_IDS001` really unique?"
    }
   },
   "outputs": [],
   "source": [
    "if flag_data_check:\n",
    "    check_mpi_id_unique = iapt_mpi.groupBy(\"Person_ID\", \"UniqueSubmissionID\").count().filter(F.col(\"count\") > 1)\n",
    "\n",
    "    if flag_data_display:\n",
    "        display(check_mpi_id_unique)"
   ]
  },
  {
   "cell_type": "markdown",
   "metadata": {
    "application/vnd.databricks.v1+cell": {
     "cellMetadata": {
      "byteLimit": 2048000,
      "rowLimit": 10000
     },
     "inputWidgets": {},
     "nuid": "170700ec-f48c-4c77-911b-8368437b599f",
     "showTitle": false,
     "tableResultSettingsMap": {},
     "title": ""
    }
   },
   "source": [
    "No, it appears the combination of `Person_ID` and `UniqueSubmissionID` is not unique within this table.\n",
    "\n",
    "**IMPORTANT NOTE**\n",
    "\n",
    "We probably want to get the details for each person at the point of their discharge, or the latest submission if their referral is still active.\n",
    "\n",
    "This means we need to join this data to the referrals table on both `Person_ID` and `Unique_Submission_ID` to ensure the patient details are contemporaneous with the referral."
   ]
  },
  {
   "cell_type": "code",
   "execution_count": 0,
   "metadata": {
    "application/vnd.databricks.v1+cell": {
     "cellMetadata": {
      "byteLimit": 2048000,
      "rowLimit": 10000
     },
     "inputWidgets": {},
     "nuid": "5a8cd155-3529-462c-a00a-ea85a03a5d7f",
     "showTitle": true,
     "tableResultSettingsMap": {},
     "title": "CHECK: examples of possible duplicates"
    }
   },
   "outputs": [],
   "source": [
    "if flag_data_check:\n",
    "    iapt_mpi.filter((F.col(\"Person_ID\") == \"N6STX48XQU3Y8JT\") & (F.col(\"UniqueSubmissionID\") == \"9534275\")).display()"
   ]
  },
  {
   "cell_type": "markdown",
   "metadata": {
    "application/vnd.databricks.v1+cell": {
     "cellMetadata": {
      "byteLimit": 2048000,
      "rowLimit": 10000
     },
     "inputWidgets": {},
     "nuid": "71ce4e89-8ca7-467d-bb73-6af3ede18997",
     "showTitle": false,
     "tableResultSettingsMap": {},
     "title": ""
    }
   },
   "source": [
    "Note on duplicate MPI records:\n",
    "\n",
    "This is fine and probably what we want. We can use the multiple records per UID to link MPI to referrals on both PatientID AND SubmissionID, thereby getting the LSOA (address) which was applicable at the time of referral.\n",
    "\n",
    "See below 'Joins' section for details of how this was achived."
   ]
  },
  {
   "cell_type": "markdown",
   "metadata": {
    "application/vnd.databricks.v1+cell": {
     "cellMetadata": {
      "byteLimit": 2048000,
      "rowLimit": 10000
     },
     "inputWidgets": {},
     "nuid": "bd95c78f-3cdc-4114-a052-11808a9eab74",
     "showTitle": false,
     "tableResultSettingsMap": {},
     "title": ""
    }
   },
   "source": [
    "### Provider details\n",
    "We want some details about the organisation that provided Talking Therapies services to patients."
   ]
  },
  {
   "cell_type": "code",
   "execution_count": 0,
   "metadata": {
    "application/vnd.databricks.v1+cell": {
     "cellMetadata": {
      "byteLimit": 2048000,
      "rowLimit": 10000
     },
     "inputWidgets": {},
     "nuid": "1a380eff-9ae9-4299-9b8c-02919b70ab02",
     "showTitle": true,
     "tableResultSettingsMap": {},
     "title": "Provider details"
    }
   },
   "outputs": [],
   "source": [
    "ods = spark.read.option(\"header\",\"true\").option(\"recursiveFileLookup\",\"true\").parquet(ods_path)\n",
    "\n",
    "if flag_data_display:\n",
    "    ods.limit(10).display()"
   ]
  },
  {
   "cell_type": "code",
   "execution_count": 0,
   "metadata": {
    "application/vnd.databricks.v1+cell": {
     "cellMetadata": {
      "byteLimit": 2048000,
      "rowLimit": 10000
     },
     "inputWidgets": {},
     "nuid": "01efb382-0dc2-4e26-8414-19428dbdc57f",
     "showTitle": true,
     "tableResultSettingsMap": {},
     "title": "CHECK: are ODS codes unique?"
    }
   },
   "outputs": [],
   "source": [
    "if flag_data_check:\n",
    "    check_ods_codes_unique = ods \\\n",
    "        .groupBy(\"ODS_Code\").count().filter(F.col(\"count\") > 1)\n",
    "\n",
    "    if flag_data_display:\n",
    "        display(check_ods_codes_unique)"
   ]
  },
  {
   "cell_type": "markdown",
   "metadata": {
    "application/vnd.databricks.v1+cell": {
     "cellMetadata": {
      "byteLimit": 2048000,
      "rowLimit": 10000
     },
     "inputWidgets": {},
     "nuid": "e4725595-969d-45ca-bfa9-bddd8072bc44",
     "showTitle": false,
     "tableResultSettingsMap": {},
     "title": ""
    }
   },
   "source": [
    "Yes, all ODS codes are unique to the ODS table."
   ]
  },
  {
   "cell_type": "markdown",
   "metadata": {
    "application/vnd.databricks.v1+cell": {
     "cellMetadata": {
      "byteLimit": 2048000,
      "rowLimit": 10000
     },
     "inputWidgets": {},
     "nuid": "bfb3a17c-61d2-4595-b1ed-4ce1b1f3259f",
     "showTitle": false,
     "tableResultSettingsMap": {},
     "title": ""
    }
   },
   "source": [
    "### IAPT contacts\n",
    "Load in care contact details"
   ]
  },
  {
   "cell_type": "code",
   "execution_count": 0,
   "metadata": {
    "application/vnd.databricks.v1+cell": {
     "cellMetadata": {
      "byteLimit": 2048000,
      "rowLimit": 10000
     },
     "inputWidgets": {},
     "nuid": "f228ea3d-4b8b-46c0-bd23-1512de6a4fa2",
     "showTitle": true,
     "tableResultSettingsMap": {},
     "title": "IAPT contacts"
    }
   },
   "outputs": [],
   "source": [
    "iapt_contacts = spark.read.option(\"header\", \"true\").option(\"recursiveFileLookup\", \"true\").parquet(iapt_path_contact)\n",
    "\n",
    "if flag_data_display:\n",
    "    iapt_contacts.limit(10).display()"
   ]
  },
  {
   "cell_type": "code",
   "execution_count": 0,
   "metadata": {
    "application/vnd.databricks.v1+cell": {
     "cellMetadata": {
      "byteLimit": 2048000,
      "rowLimit": 10000
     },
     "inputWidgets": {},
     "nuid": "9d0f8bb1-993b-4ab9-80bf-df4080c4a2bd",
     "showTitle": true,
     "tableResultSettingsMap": {
      "0": {
       "dataGridStateBlob": "{\"version\":1,\"tableState\":{\"columnPinning\":{\"left\":[\"#row_number#\"],\"right\":[]},\"columnSizing\":{},\"columnVisibility\":{}},\"settings\":{\"columns\":{}},\"syncTimestamp\":1752247549189}",
       "filterBlob": null,
       "queryPlanFiltersBlob": null,
       "tableResultIndex": 0
      }
     },
     "title": "CHECK: are contact unique care contact ID really unique"
    }
   },
   "outputs": [],
   "source": [
    "if flag_data_check:\n",
    "    check_contact_codes_unique = iapt_contacts \\\n",
    "        .groupBy(\"Unique_CareContactID\").count().filter(F.col(\"count\") > 1)\n",
    "\n",
    "    if flag_data_display:\n",
    "        display(check_contact_codes_unique)"
   ]
  },
  {
   "cell_type": "code",
   "execution_count": 0,
   "metadata": {
    "application/vnd.databricks.v1+cell": {
     "cellMetadata": {
      "byteLimit": 2048000,
      "rowLimit": 10000
     },
     "inputWidgets": {},
     "nuid": "6e75861f-7e43-488a-ad1f-4973937be5cd",
     "showTitle": false,
     "tableResultSettingsMap": {},
     "title": ""
    }
   },
   "outputs": [],
   "source": [
    "if flag_data_display:\n",
    "    # there are some duplicates, some are quite large. Lets take a look at one\n",
    "    iapt_contacts.filter(F.col(\"Unique_CareContactID\") == \"RX3YE6090764\").display()"
   ]
  },
  {
   "cell_type": "markdown",
   "metadata": {
    "application/vnd.databricks.v1+cell": {
     "cellMetadata": {
      "byteLimit": 2048000,
      "rowLimit": 10000
     },
     "inputWidgets": {},
     "nuid": "e5f22f5b-b7e2-4b81-bc31-d41b9752454d",
     "showTitle": false,
     "tableResultSettingsMap": {},
     "title": ""
    }
   },
   "source": [
    "OK, so it looks like the `Unique_CareContactID` can refer to multiple records. It looks like this is due to submissions over multiple months, and the details **can** change, e.g. the above example shows the contact date changes date and time.\n",
    "\n",
    "Speculation: the clinician changed some (but not all) details for a contact, possibly to correct an erroneous record. In this case, it looks like they changed the date and time of the appointment and also changed attendance from 'attended' to being 'cancelled' by the patient."
   ]
  },
  {
   "cell_type": "code",
   "execution_count": 0,
   "metadata": {
    "application/vnd.databricks.v1+cell": {
     "cellMetadata": {
      "byteLimit": 2048000,
      "rowLimit": 10000
     },
     "inputWidgets": {},
     "nuid": "805f7f92-5f6f-4315-8106-d1542a5bef23",
     "showTitle": true,
     "tableResultSettingsMap": {},
     "title": "Get the latest record per `Unique_CareContactID`"
    }
   },
   "outputs": [],
   "source": [
    "# define a window spec for each person in MPI\n",
    "window_spec = W.partitionBy(\"Unique_CareContactID\").orderBy(F.col(\"EFFECTIVE_FROM\").desc())\n",
    "\n",
    "# get the latest record for each person\n",
    "iapt_contacts_latest = (\n",
    "    iapt_contacts\n",
    "        .withColumn(\"row_number\", F.row_number().over(window_spec)) # assign 1,2,3... within each id\n",
    "        .filter(F.col(\"row_number\") == 1) # keep only top row per id\n",
    "        .drop(\"row_number\")\n",
    ")\n",
    "\n",
    "if flag_data_display:\n",
    "    iapt_contacts_latest.limit(10).display()"
   ]
  },
  {
   "cell_type": "code",
   "execution_count": 0,
   "metadata": {
    "application/vnd.databricks.v1+cell": {
     "cellMetadata": {
      "byteLimit": 2048000,
      "rowLimit": 10000
     },
     "inputWidgets": {},
     "nuid": "0cd5a823-de18-4ead-8bb8-dab5b39712ef",
     "showTitle": true,
     "tableResultSettingsMap": {},
     "title": "CHECK: are `Unique_CareContactID` unique now"
    }
   },
   "outputs": [],
   "source": [
    "if flag_data_check:\n",
    "    check_contact_codes_unique_v2 = iapt_contacts_latest \\\n",
    "        .groupBy(\"Unique_CareContactID\").count().filter(F.col(\"count\") > 1)\n",
    "\n",
    "    if flag_data_display:\n",
    "        display(check_contact_codes_unique_v2)"
   ]
  },
  {
   "cell_type": "markdown",
   "metadata": {
    "application/vnd.databricks.v1+cell": {
     "cellMetadata": {
      "byteLimit": 2048000,
      "rowLimit": 10000
     },
     "inputWidgets": {},
     "nuid": "37302812-5739-4a78-a619-795819baeccc",
     "showTitle": false,
     "tableResultSettingsMap": {},
     "title": ""
    }
   },
   "source": [
    "Yes, they are unique now. :)"
   ]
  },
  {
   "cell_type": "markdown",
   "metadata": {
    "application/vnd.databricks.v1+cell": {
     "cellMetadata": {
      "byteLimit": 2048000,
      "rowLimit": 10000
     },
     "inputWidgets": {},
     "nuid": "e2951d92-1175-4146-b1e0-f3f56b461f0a",
     "showTitle": false,
     "tableResultSettingsMap": {},
     "title": ""
    }
   },
   "source": [
    "## Joins"
   ]
  },
  {
   "cell_type": "markdown",
   "metadata": {
    "application/vnd.databricks.v1+cell": {
     "cellMetadata": {
      "byteLimit": 2048000,
      "rowLimit": 10000
     },
     "inputWidgets": {},
     "nuid": "87004624-4af1-410a-bb0d-582af3ee7d3d",
     "showTitle": false,
     "tableResultSettingsMap": {},
     "title": ""
    }
   },
   "source": [
    "### Referrals - MPI"
   ]
  },
  {
   "cell_type": "code",
   "execution_count": 0,
   "metadata": {
    "application/vnd.databricks.v1+cell": {
     "cellMetadata": {
      "byteLimit": 2048000,
      "rowLimit": 10000
     },
     "inputWidgets": {},
     "nuid": "25f43e45-5df4-4b18-a171-e2071157a3d0",
     "showTitle": true,
     "tableResultSettingsMap": {},
     "title": "Shorten MPI"
    }
   },
   "outputs": [],
   "source": [
    "# get a truncated version of the MPI containing gender, deprivation and ethnicity\n",
    "iapt_mpi_short = iapt_mpi.select(\n",
    "    # keys\n",
    "    \"Person_ID\", \n",
    "    \"UniqueSubmissionID\",\n",
    "    \"EFFECTIVE_FROM\",\n",
    "    \"RecordNumber\",\n",
    "    # details\n",
    "    \"Gender\",\n",
    "    \"GenderIdentity\",\n",
    "    \"IndicesOfDeprivationDecile\",\n",
    "    \"IMD_YEAR\",\n",
    "    \"EthnicCategory\",\n",
    "    \"Validated_EthnicCategory\",\n",
    "    \"EthnicCategory2021\"\n",
    ").distinct()"
   ]
  },
  {
   "cell_type": "code",
   "execution_count": 0,
   "metadata": {
    "application/vnd.databricks.v1+cell": {
     "cellMetadata": {
      "byteLimit": 2048000,
      "rowLimit": 10000
     },
     "inputWidgets": {},
     "nuid": "9db5e7da-3a23-413d-b471-2a640d44e31c",
     "showTitle": true,
     "tableResultSettingsMap": {},
     "title": "Make MPI unique to Person_ID and SubmissionID"
    }
   },
   "outputs": [],
   "source": [
    "# There are some records that appear to show multiple records for the same person / unique submission ID\n",
    "# These need to be consolidated to one row per person / unique submission ID combo.\n",
    "\n",
    "# define a window spec for each person in MPI\n",
    "window_spec = W.partitionBy(\"Person_ID\", \"UniqueSubmissionID\").orderBy(F.col(\"EFFECTIVE_FROM\").desc(), F.col(\"RecordNumber\").desc())\n",
    "\n",
    "# get the latest record for each person\n",
    "iapt_mpi_short_unique = (\n",
    "    iapt_mpi_short\n",
    "        .withColumn(\"row_number\", F.row_number().over(window_spec)) # assign 1,2,3... within each id\n",
    "        .filter(F.col(\"row_number\") == 1) # keep only top row per id\n",
    "        .drop(\"row_number\")\n",
    ")\n",
    "\n",
    "if flag_data_display:\n",
    "    iapt_mpi_short_unique.limit(10).display()"
   ]
  },
  {
   "cell_type": "code",
   "execution_count": 0,
   "metadata": {
    "application/vnd.databricks.v1+cell": {
     "cellMetadata": {
      "byteLimit": 2048000,
      "rowLimit": 10000
     },
     "inputWidgets": {},
     "nuid": "17510044-5797-4195-ba1d-ea9a9d334fb5",
     "showTitle": true,
     "tableResultSettingsMap": {},
     "title": "Identify which records that have combinations of PersonID and SubmissionID with multiple values"
    }
   },
   "outputs": [],
   "source": [
    "if flag_data_check:\n",
    "    check_mpi_short_multiples = iapt_mpi_short_unique \\\n",
    "        .groupBy(\"Person_ID\", \"UniqueSubmissionID\").count().filter(F.col(\"count\") > 1) \n",
    "\n",
    "    if flag_data_display:\n",
    "        display(check_mpi_short_multiples.orderBy(\"count\", ascending=False))"
   ]
  },
  {
   "cell_type": "markdown",
   "metadata": {
    "application/vnd.databricks.v1+cell": {
     "cellMetadata": {
      "byteLimit": 2048000,
      "rowLimit": 10000
     },
     "inputWidgets": {},
     "nuid": "273b129c-019e-4ac2-a904-054a2ffb3e6f",
     "showTitle": false,
     "tableResultSettingsMap": {},
     "title": ""
    }
   },
   "source": [
    "Great news - we have unique MPI records for each Person/Submission ID combo. This df is ready for joining with the referrals records."
   ]
  },
  {
   "cell_type": "code",
   "execution_count": 0,
   "metadata": {
    "application/vnd.databricks.v1+cell": {
     "cellMetadata": {
      "byteLimit": 2048000,
      "rowLimit": 10000
     },
     "inputWidgets": {},
     "nuid": "7b9a423a-9d0c-4c03-9a30-fdb6148449d9",
     "showTitle": true,
     "tableResultSettingsMap": {},
     "title": "Join to Referrals on PersonID and SubmissionID"
    }
   },
   "outputs": [],
   "source": [
    "iapt_referrals_latest_test = iapt_referrals_latest \\\n",
    "  .join(iapt_mpi_short_unique, \n",
    "        on = (\n",
    "          (iapt_referrals_latest[\"Person_ID\"] == iapt_mpi_short_unique[\"Person_ID\"]) &\n",
    "          (iapt_referrals_latest[\"UniqueSubmissionID\"] == iapt_mpi_short_unique[\"UniqueSubmissionID\"])\n",
    "        ),\n",
    "        how = \"left\"\n",
    "  )\n",
    "\n",
    "if flag_data_display:\n",
    "    iapt_referrals_latest_test.limit(10).display()"
   ]
  },
  {
   "cell_type": "code",
   "execution_count": 0,
   "metadata": {
    "application/vnd.databricks.v1+cell": {
     "cellMetadata": {
      "byteLimit": 2048000,
      "rowLimit": 10000
     },
     "inputWidgets": {},
     "nuid": "e31dc84e-a5dc-4194-861a-0ec07573f438",
     "showTitle": true,
     "tableResultSettingsMap": {},
     "title": "CHECK: record count remains the same for referrals"
    }
   },
   "outputs": [],
   "source": [
    "if flag_data_check:\n",
    "    n_rows_referrals = iapt_referrals_latest.count()\n",
    "    n_rows_referrals_test = iapt_referrals_latest_test.count()\n",
    "    print(f\"Original: {n_rows_referrals:,}\")\n",
    "    print(f\"Test:     {n_rows_referrals_test:,}\")"
   ]
  },
  {
   "cell_type": "markdown",
   "metadata": {
    "application/vnd.databricks.v1+cell": {
     "cellMetadata": {
      "byteLimit": 2048000,
      "rowLimit": 10000
     },
     "inputWidgets": {},
     "nuid": "d00908fc-497f-474e-b222-c2dc6ca514db",
     "showTitle": false,
     "tableResultSettingsMap": {},
     "title": ""
    }
   },
   "source": [
    "Great news - the number of referrals remains constant after the left-join."
   ]
  },
  {
   "cell_type": "code",
   "execution_count": 0,
   "metadata": {
    "application/vnd.databricks.v1+cell": {
     "cellMetadata": {
      "byteLimit": 2048000,
      "rowLimit": 10000
     },
     "inputWidgets": {},
     "nuid": "2c082d06-85d1-4a64-86ed-795775ede502",
     "showTitle": true,
     "tableResultSettingsMap": {},
     "title": "Make the working df"
    }
   },
   "outputs": [],
   "source": [
    "iapt_referrals_latest = iapt_referrals_latest_test"
   ]
  },
  {
   "cell_type": "markdown",
   "metadata": {
    "application/vnd.databricks.v1+cell": {
     "cellMetadata": {
      "byteLimit": 2048000,
      "rowLimit": 10000
     },
     "inputWidgets": {},
     "nuid": "a0d7636f-34b0-41b1-9de4-0f4b461394da",
     "showTitle": false,
     "tableResultSettingsMap": {},
     "title": ""
    }
   },
   "source": [
    "### Referrals - ODS"
   ]
  },
  {
   "cell_type": "code",
   "execution_count": 0,
   "metadata": {
    "application/vnd.databricks.v1+cell": {
     "cellMetadata": {
      "byteLimit": 2048000,
      "rowLimit": 10000
     },
     "inputWidgets": {},
     "nuid": "07cf3cb7-b06a-41c9-b0cc-1a8e935ecc78",
     "showTitle": true,
     "tableResultSettingsMap": {},
     "title": "Join provider name to referrals"
    }
   },
   "outputs": [],
   "source": [
    "iapt_referrals_latest = iapt_referrals_latest.join(\n",
    "    ods, \n",
    "    on = iapt_referrals_latest[\"OrgID_Provider\"] == ods[\"ODS_Code\"], \n",
    "    how = \"left\"\n",
    ")\n",
    "\n",
    "if flag_data_display:\n",
    "    iapt_referrals_latest.limit(10).display()"
   ]
  },
  {
   "cell_type": "code",
   "execution_count": 0,
   "metadata": {
    "application/vnd.databricks.v1+cell": {
     "cellMetadata": {
      "byteLimit": 2048000,
      "rowLimit": 10000
     },
     "inputWidgets": {},
     "nuid": "e5d20200-f060-4980-a73b-f73d17d8284e",
     "showTitle": true,
     "tableResultSettingsMap": {},
     "title": "CHECK: Provider codes wtihout a provider name"
    }
   },
   "outputs": [],
   "source": [
    "if flag_data_check:\n",
    "    \n",
    "    ods = iapt_referrals_latest.select(\"ODS_Code\", \"Name\").withColumnRenamed(\"Name\", \"ODS_Name\").distinct()\n",
    "    \n",
    "    if flag_data_display:\n",
    "        ods.display()\n",
    "else:\n",
    "    display(\"Data check flag is set to False\")"
   ]
  },
  {
   "cell_type": "markdown",
   "metadata": {
    "application/vnd.databricks.v1+cell": {
     "cellMetadata": {
      "byteLimit": 2048000,
      "rowLimit": 10000
     },
     "inputWidgets": {},
     "nuid": "c814a573-9793-4585-bc50-7e7c62eae1db",
     "showTitle": false,
     "tableResultSettingsMap": {},
     "title": ""
    }
   },
   "source": [
    "All `ODS_Code` values appear to have corresponding `ODS_Name` values, indicating all provider codes have been identified.\n",
    "There are 181 providers of Talking Therapies listed. This appears to be the right order of magnitude when compared with the range of providers reported in the IAPT dashboard."
   ]
  },
  {
   "cell_type": "code",
   "execution_count": 0,
   "metadata": {
    "application/vnd.databricks.v1+cell": {
     "cellMetadata": {
      "byteLimit": 2048000,
      "rowLimit": 10000
     },
     "inputWidgets": {},
     "nuid": "903a55c6-76d0-449d-877b-73f848eba2e7",
     "showTitle": true,
     "tableResultSettingsMap": {},
     "title": "CHECK: any `null` ODS_Name"
    }
   },
   "outputs": [],
   "source": [
    "if flag_data_check:\n",
    "    # see if there are any nulls in the `ODS_Name` field - i.e. checking for unmatched `OrgID_Provider`\n",
    "    null_count = iapt_referrals_latest.groupBy(\"OrgID_Provider\").agg(F.count(F.when(F.col(\"PPSM\").isNull(), True)).alias(\"null_ods_names\"))\n",
    "\n",
    "    if flag_data_display:\n",
    "        display(null_count)\n",
    "\n",
    "else:\n",
    "    display(\"Data check flag is set to False\")"
   ]
  },
  {
   "cell_type": "markdown",
   "metadata": {
    "application/vnd.databricks.v1+cell": {
     "cellMetadata": {
      "byteLimit": 2048000,
      "rowLimit": 10000
     },
     "inputWidgets": {},
     "nuid": "425f4515-3c94-4832-a3cc-96f77d12b879",
     "showTitle": false,
     "tableResultSettingsMap": {},
     "title": ""
    }
   },
   "source": [
    "All provider codes appear to be matched with corresponding provider names."
   ]
  },
  {
   "cell_type": "markdown",
   "metadata": {
    "application/vnd.databricks.v1+cell": {
     "cellMetadata": {
      "byteLimit": 2048000,
      "rowLimit": 10000
     },
     "inputWidgets": {},
     "nuid": "dc8eabf4-375b-433b-98ae-7752e73ebebb",
     "showTitle": false,
     "tableResultSettingsMap": {},
     "title": ""
    }
   },
   "source": [
    "### Contacts - ODS\n",
    "Link the organisation name to the care contact"
   ]
  },
  {
   "cell_type": "code",
   "execution_count": 0,
   "metadata": {
    "application/vnd.databricks.v1+cell": {
     "cellMetadata": {
      "byteLimit": 2048000,
      "rowLimit": 10000
     },
     "inputWidgets": {},
     "nuid": "7a79416a-0554-4351-9210-50a380a50458",
     "showTitle": true,
     "tableResultSettingsMap": {},
     "title": "Join provider name to contacts"
    }
   },
   "outputs": [],
   "source": [
    "iapt_contacts_latest = iapt_contacts_latest.join(\n",
    "    ods, \n",
    "    on = iapt_contacts_latest[\"OrgID_Provider\"] == ods[\"ODS_Code\"], \n",
    "    how = \"left\"\n",
    ")\n",
    "\n",
    "if flag_data_display:\n",
    "    iapt_contacts_latest.limit(10).display()"
   ]
  },
  {
   "cell_type": "markdown",
   "metadata": {
    "application/vnd.databricks.v1+cell": {
     "cellMetadata": {
      "byteLimit": 2048000,
      "rowLimit": 10000
     },
     "inputWidgets": {},
     "nuid": "4462bc21-4685-4523-849c-8d9251252e92",
     "showTitle": false,
     "tableResultSettingsMap": {},
     "title": ""
    }
   },
   "source": [
    "# Explore"
   ]
  },
  {
   "cell_type": "markdown",
   "metadata": {
    "application/vnd.databricks.v1+cell": {
     "cellMetadata": {
      "byteLimit": 2048000,
      "rowLimit": 10000
     },
     "inputWidgets": {},
     "nuid": "ae06f2e8-fbb2-42a1-b436-6116f2d08a7f",
     "showTitle": false,
     "tableResultSettingsMap": {},
     "title": ""
    }
   },
   "source": [
    "## Referrals"
   ]
  },
  {
   "cell_type": "markdown",
   "metadata": {
    "application/vnd.databricks.v1+cell": {
     "cellMetadata": {},
     "inputWidgets": {},
     "nuid": "6b27ea39-e40b-44e0-9a0e-7abae3c646be",
     "showTitle": false,
     "tableResultSettingsMap": {},
     "title": ""
    }
   },
   "source": [
    "### Age distribution"
   ]
  },
  {
   "cell_type": "code",
   "execution_count": 0,
   "metadata": {
    "application/vnd.databricks.v1+cell": {
     "cellMetadata": {
      "byteLimit": 2048000,
      "rowLimit": 10000
     },
     "inputWidgets": {},
     "nuid": "6c989936-745a-4ae0-8d29-85015dbbf4aa",
     "showTitle": true,
     "tableResultSettingsMap": {},
     "title": "CHECK: age distribution of referrals"
    }
   },
   "outputs": [],
   "source": [
    "if flag_data_check:\n",
    "    referral_age_distribution = iapt_referrals_latest \\\n",
    "        .groupBy(F.col(\"Age_ReferralRequest_ReceivedDate\")) \\\n",
    "            .agg(F.countDistinct(F.col(\"Unique_ServiceRequestID\")).alias(\"unique_referrals\"))\\\n",
    "                .orderBy(\"Age_ReferralRequest_ReceivedDate\")\n",
    "\n",
    "    if flag_data_display:\n",
    "        referral_age_distribution.display()\n",
    "        \n",
    "else:\n",
    "    display(\"Data check flag is set to False\")"
   ]
  },
  {
   "cell_type": "markdown",
   "metadata": {
    "application/vnd.databricks.v1+cell": {
     "cellMetadata": {
      "byteLimit": 2048000,
      "rowLimit": 10000
     },
     "inputWidgets": {},
     "nuid": "5c602076-1d25-4057-bf9b-e51a84cb3b78",
     "showTitle": false,
     "tableResultSettingsMap": {},
     "title": ""
    }
   },
   "source": [
    "Interesting... several hundred referrals were received for patients aged 0, that's interesting and doesn't look right. There are a (relatively) small number of referrals for people aged 0 to 15 - presumably data quality issues. \n",
    "The bulk of referrals ramp upwards from age 16 onwards, which fits references for NHS TT being an adult service but which can take adolescents too.\n"
   ]
  },
  {
   "cell_type": "code",
   "execution_count": 0,
   "metadata": {
    "application/vnd.databricks.v1+cell": {
     "cellMetadata": {
      "byteLimit": 2048000,
      "rowLimit": 10000
     },
     "inputWidgets": {},
     "nuid": "04dba7aa-ece3-49a2-981f-d8f324fd6317",
     "showTitle": false,
     "tableResultSettingsMap": {},
     "title": ""
    }
   },
   "outputs": [],
   "source": [
    "# Lets see what happens if we focus on referrals received after Jan 2022\n",
    "if flag_data_check:\n",
    "    referral_age_distribution_since2022 = iapt_referrals \\\n",
    "        .filter(F.col(\"ReferralRequestReceivedDate\") > F.lit(\"2022-01-01\")) \\\n",
    "            .groupBy(F.col(\"Age_ReferralRequest_ReceivedDate\")) \\\n",
    "                .agg(F.countDistinct(F.col(\"Unique_ServiceRequestID\")).alias(\"unique_referrals\"))\\\n",
    "                    .orderBy(\"Age_ReferralRequest_ReceivedDate\")\n",
    "\n",
    "    if flag_data_display:\n",
    "        referral_age_distribution_since2022.display()\n",
    "        \n",
    "else:\n",
    "    display(\"Data check flag is set to False\")"
   ]
  },
  {
   "cell_type": "markdown",
   "metadata": {
    "application/vnd.databricks.v1+cell": {
     "cellMetadata": {
      "byteLimit": 2048000,
      "rowLimit": 10000
     },
     "inputWidgets": {},
     "nuid": "ccd7d7b0-b264-46b3-8444-5018d2ce22d3",
     "showTitle": false,
     "tableResultSettingsMap": {},
     "title": ""
    }
   },
   "source": [
    "There are still quite a few referrals for people aged 0 to 15 in this sample.\n",
    "The number of referrals ramps up from age 16 onward, which fits expectations."
   ]
  },
  {
   "cell_type": "markdown",
   "metadata": {
    "application/vnd.databricks.v1+cell": {
     "cellMetadata": {
      "byteLimit": 2048000,
      "rowLimit": 10000
     },
     "inputWidgets": {},
     "nuid": "af169b07-5877-4d5f-b1be-21a9539e2cb9",
     "showTitle": false,
     "tableResultSettingsMap": {},
     "title": ""
    }
   },
   "source": [
    "### Referrals per month\n",
    "Looking to get a count of unique referrals by month the referral was received and discharged. These will be the denominators for the aggregate summaries per provider."
   ]
  },
  {
   "cell_type": "code",
   "execution_count": 0,
   "metadata": {
    "application/vnd.databricks.v1+cell": {
     "cellMetadata": {
      "byteLimit": 2048000,
      "rowLimit": 10000
     },
     "inputWidgets": {},
     "nuid": "30d7ca59-b59b-4c8f-885f-75ffea459ff7",
     "showTitle": false,
     "tableResultSettingsMap": {},
     "title": ""
    }
   },
   "outputs": [],
   "source": [
    "# work out the year-month for referrals received and discharged\n",
    "iapt_referrals_latest = iapt_referrals_latest \\\n",
    "    .withColumn(\"calc_Referral_Received_YM\", F.date_format(\"ReferralRequestReceivedDate\", \"yyyy-MM\")) \\\n",
    "        .withColumn(\"calc_Referral_Discharged_YM\", F.date_format(\"ServDischDate\", \"yyyy-MM\"))\n",
    "\n",
    "if flag_data_display:\n",
    "    iapt_referrals_latest \\\n",
    "        .select(\"Unique_ServiceRequestID\", \"ReferralRequestReceivedDate\", \"ServDischDate\", \"calc_Referral_Received_YM\", \"calc_Referral_Discharged_YM\") \\\n",
    "            .limit(10).display()"
   ]
  },
  {
   "cell_type": "code",
   "execution_count": 0,
   "metadata": {
    "application/vnd.databricks.v1+cell": {
     "cellMetadata": {
      "byteLimit": 2048000,
      "rowLimit": 10000
     },
     "inputWidgets": {},
     "nuid": "8b7a4a31-aae7-46eb-a8a4-36a213bdd54c",
     "showTitle": true,
     "tableResultSettingsMap": {},
     "title": "Calculate YearMonth of referrals"
    }
   },
   "outputs": [],
   "source": [
    "if flag_data_check:\n",
    "  # Count referrals received\n",
    "  iapt_referrals_received_count = iapt_referrals_latest \\\n",
    "    .groupBy(\"calc_Referral_Received_YM\") \\\n",
    "      .agg(F.countDistinct(\"PathwayID\").alias(\"referrals_received_count\")) \\\n",
    "        .orderBy(\"calc_Referral_Received_YM\")\n",
    "  # Count referrals discharged\n",
    "  iapt_referrals_discharged_count = iapt_referrals_latest \\\n",
    "    .groupBy(\"calc_Referral_Discharged_YM\") \\\n",
    "      .agg(F.countDistinct(\"PathwayID\").alias(\"referrals_discharged_count\")) \\\n",
    "        .orderBy(\"calc_Referral_Discharged_YM\")\n",
    "else:\n",
    "  display(\"Flag Data Check is set to False\")"
   ]
  },
  {
   "cell_type": "code",
   "execution_count": 0,
   "metadata": {
    "application/vnd.databricks.v1+cell": {
     "cellMetadata": {
      "byteLimit": 2048000,
      "rowLimit": 10000
     },
     "inputWidgets": {},
     "nuid": "75f51131-a67f-4a02-a244-18b673965754",
     "showTitle": true,
     "tableResultSettingsMap": {},
     "title": "Show referrals received"
    }
   },
   "outputs": [],
   "source": [
    "if flag_data_check:\n",
    "    iapt_referrals_received_count.display()\n",
    "else:\n",
    "    display(\"Flag Data Check is set to False\")"
   ]
  },
  {
   "cell_type": "code",
   "execution_count": 0,
   "metadata": {
    "application/vnd.databricks.v1+cell": {
     "cellMetadata": {
      "byteLimit": 2048000,
      "rowLimit": 10000
     },
     "inputWidgets": {},
     "nuid": "8ca96db8-fb7f-44a8-87cc-e3ca73e42d6a",
     "showTitle": true,
     "tableResultSettingsMap": {},
     "title": "Show referrals discharged"
    }
   },
   "outputs": [],
   "source": [
    "if flag_data_check:\n",
    "    iapt_referrals_discharged_count.display()\n",
    "else:\n",
    "    display(\"Flag Data Check is set to False\")"
   ]
  },
  {
   "cell_type": "markdown",
   "metadata": {
    "application/vnd.databricks.v1+cell": {
     "cellMetadata": {
      "byteLimit": 2048000,
      "rowLimit": 10000
     },
     "inputWidgets": {},
     "nuid": "93129ece-6a2f-4952-92a9-4d26a69f7f9d",
     "showTitle": false,
     "tableResultSettingsMap": {},
     "title": ""
    }
   },
   "source": [
    "**Referrals over time - comments**\n",
    "- Some referrals were received as far back as the 1940s.\n",
    "- Not just some extreme outliers, referrals are counted in ones and twos a month for each decade, 1950s, 1960s, 1970s, 1980s, etc. ? Linked with person's year of birth.\n",
    "- Count of referrals begin to ramp up from 2019 onwards, reaching what is currently the steady state of 140k referrals per month around September 2020. "
   ]
  },
  {
   "cell_type": "code",
   "execution_count": 0,
   "metadata": {
    "application/vnd.databricks.v1+cell": {
     "cellMetadata": {
      "byteLimit": 2048000,
      "rowLimit": 10000
     },
     "inputWidgets": {},
     "nuid": "28140c1d-b83a-4ded-9f29-1f98254fa130",
     "showTitle": true,
     "tableResultSettingsMap": {},
     "title": "Count distinct referrals per provider per month"
    }
   },
   "outputs": [],
   "source": [
    "if flag_data_check:\n",
    "  # Count distinct pathwayid by YearMonth of discharge\n",
    "  iapt_referrals_per_month_provider = iapt_referrals_latest \\\n",
    "    .groupBy(\"calc_Referral_Discharged_YM\", \"ODS_Code\", \"Name\") \\\n",
    "      .agg(F.countDistinct(\"PathwayID\").alias(\"referral_count\")) \\\n",
    "        .orderBy(F.desc(\"calc_Referral_Discharged_YM\"), \"ODS_Code\")\n",
    "  \n",
    "  if flag_data_display:\n",
    "    iapt_referrals_per_month_provider.display()\n",
    "\n",
    "else:\n",
    "  display(\"Flag Data Check is set to False\")"
   ]
  },
  {
   "cell_type": "markdown",
   "metadata": {
    "application/vnd.databricks.v1+cell": {
     "cellMetadata": {},
     "inputWidgets": {},
     "nuid": "4ab7344f-cd90-42e4-83bb-6d6dda2324ad",
     "showTitle": false,
     "tableResultSettingsMap": {},
     "title": ""
    }
   },
   "source": [
    "## Contacts"
   ]
  },
  {
   "cell_type": "markdown",
   "metadata": {
    "application/vnd.databricks.v1+cell": {
     "cellMetadata": {
      "byteLimit": 2048000,
      "rowLimit": 10000
     },
     "inputWidgets": {},
     "nuid": "887c9bea-8d3b-484d-9b92-54bab339b073",
     "showTitle": false,
     "tableResultSettingsMap": {},
     "title": ""
    }
   },
   "source": [
    "### Contacts per month\n",
    "Looking to calculate some matching variables based on a profile of contacts."
   ]
  },
  {
   "cell_type": "code",
   "execution_count": 0,
   "metadata": {
    "application/vnd.databricks.v1+cell": {
     "cellMetadata": {
      "byteLimit": 2048000,
      "rowLimit": 10000
     },
     "inputWidgets": {},
     "nuid": "bf8f8613-bdce-4b43-98a3-0939f029bb2d",
     "showTitle": true,
     "tableResultSettingsMap": {},
     "title": "Calculate YearMonth of contacts"
    }
   },
   "outputs": [],
   "source": [
    "# work out the year-month for contacts\n",
    "iapt_contacts_latest = iapt_contacts_latest \\\n",
    "    .withColumn(\"calc_Contact_YM\", F.date_format(\"CareContDate\", \"yyyy-MM\"))\n",
    "\n",
    "if flag_data_display:\n",
    "    iapt_contacts_latest \\\n",
    "        .select(\"Unique_ServiceRequestID\", \"Unique_CareContactID\", \"CareContDate\", \"calc_Contact_YM\") \\\n",
    "            .limit(10).display()"
   ]
  },
  {
   "cell_type": "code",
   "execution_count": 0,
   "metadata": {
    "application/vnd.databricks.v1+cell": {
     "cellMetadata": {
      "byteLimit": 2048000,
      "rowLimit": 10000
     },
     "inputWidgets": {},
     "nuid": "32790534-5e3a-48d5-9077-f3caaf178645",
     "showTitle": true,
     "tableResultSettingsMap": {},
     "title": "Show contacts per month"
    }
   },
   "outputs": [],
   "source": [
    "if flag_data_display:\n",
    "    iapt_contacts_latest \\\n",
    "        .groupBy(\"calc_Contact_YM\") \\\n",
    "        .agg(F.countDistinct(\"Unique_CareContactID\").alias(\"contacts_count\")) \\\n",
    "            .orderBy(\"calc_Contact_YM\").display()"
   ]
  },
  {
   "cell_type": "markdown",
   "metadata": {
    "application/vnd.databricks.v1+cell": {
     "cellMetadata": {},
     "inputWidgets": {},
     "nuid": "2cfc5aab-10d3-4c43-b39d-9f571dd21c1f",
     "showTitle": false,
     "tableResultSettingsMap": {},
     "title": ""
    }
   },
   "source": [
    "### Contact location"
   ]
  },
  {
   "cell_type": "code",
   "execution_count": 0,
   "metadata": {
    "application/vnd.databricks.v1+cell": {
     "cellMetadata": {
      "byteLimit": 2048000,
      "rowLimit": 10000
     },
     "inputWidgets": {},
     "nuid": "87ae4f54-0f52-4c5c-9b9f-767204f1e06c",
     "showTitle": true,
     "tableResultSettingsMap": {
      "0": {
       "dataGridStateBlob": "{\"version\":1,\"tableState\":{\"columnPinning\":{\"left\":[\"#row_number#\"],\"right\":[]},\"columnSizing\":{\"ActLocTypeCode\":138},\"columnVisibility\":{}},\"settings\":{\"columns\":{}},\"syncTimestamp\":1753715864798}",
       "filterBlob": null,
       "queryPlanFiltersBlob": null,
       "tableResultIndex": 0
      }
     },
     "title": "Count contacts by the location"
    }
   },
   "outputs": [],
   "source": [
    "if flag_data_check:\n",
    "    # get the total number of contacts (denominator)\n",
    "    total_contacts_count = (\n",
    "        iapt_contacts_latest\n",
    "        # limit to attended contacts (5) or attended late contacts (6)\n",
    "        .filter(F.col(\"AttendOrDNACode\").isin(\"5\", \"6\"))\n",
    "        .select(F.countDistinct(\"Unique_CareContactID\")).collect()[0][0]\n",
    "    )\n",
    "\n",
    "    # summarise contacts by location\n",
    "    ( iapt_contacts_latest\n",
    "        # limit to attended contacts (5) or attended late contacts (6)\n",
    "        .filter(F.col(\"AttendOrDNACode\").isin(\"5\", \"6\"))\n",
    "        \n",
    "        # count activity by location\n",
    "        .groupBy(\"ActLocTypeCode\")\n",
    "        .agg(F.countDistinct(\"Unique_CareContactID\").alias(\"contacts_count\"))\n",
    "        .withColumn(\"contacts_rate\", F.col(\"contacts_count\") / total_contacts_count)\n",
    "        .withColumn(\"contacts_perc\", F.format_number(\"contacts_rate\", 2))\n",
    "        .orderBy(F.col(\"contacts_count\").desc())\n",
    "        .display()\n",
    "    )"
   ]
  },
  {
   "cell_type": "markdown",
   "metadata": {
    "application/vnd.databricks.v1+cell": {
     "cellMetadata": {},
     "inputWidgets": {},
     "nuid": "f31e23ce-4a25-4512-aad0-6973deeea94f",
     "showTitle": false,
     "tableResultSettingsMap": {},
     "title": ""
    }
   },
   "source": [
    "This is interesting, there are many more contacts in a non-hospital setting than I was expecting: \n",
    "- 40% of attended contacts have a recorded location of `X01` (Other locations not elsewhere classified),\n",
    "- 15% are `A01` (Patient's home), \n",
    "- 14% `null`, \n",
    "- 10% `A04` (Other patient related location),\n",
    "- 9% `B01` (Primary care health centre),\n",
    "- 3% `E01` (Out-Patient clinic),\n",
    "- 2% `C01` (GP)\n",
    "\n",
    "... very few seem to be in locations that would pose logistical issues in attending."
   ]
  },
  {
   "cell_type": "code",
   "execution_count": 0,
   "metadata": {
    "application/vnd.databricks.v1+cell": {
     "cellMetadata": {
      "byteLimit": 2048000,
      "rowLimit": 10000
     },
     "inputWidgets": {},
     "nuid": "3a27679f-6293-4fe0-a3e9-45323fce5281",
     "showTitle": false,
     "tableResultSettingsMap": {
      "0": {
       "dataGridStateBlob": "{\"version\":1,\"tableState\":{\"columnPinning\":{\"left\":[\"#row_number#\"],\"right\":[]},\"columnSizing\":{\"contacts_count\":132,\"contacts_rate\":102},\"columnVisibility\":{}},\"settings\":{\"columns\":{}},\"syncTimestamp\":1753719020855}",
       "filterBlob": null,
       "queryPlanFiltersBlob": null,
       "tableResultIndex": 0
      }
     },
     "title": ""
    }
   },
   "outputs": [],
   "source": [
    "if flag_data_check:\n",
    "    # lets simplify the locations to improve readability\n",
    "    act_loc_type_mapping = {\n",
    "        \"Patient main residence\": [\"A01\", \"A02\", \"A03\", \"A04\"],\n",
    "        \"Health Centre premises\": [\"B01\", \"B02\"],\n",
    "        \"GP / Dentist / Opthalmic\": [\"C01\", \"C02\", \"C03\"],\n",
    "        \"Walk in Centres\": [\"D01\", \"D02\", \"D03\"],\n",
    "        \"Hospital premises\": [\"E01\", \"E02\", \"E03\", \"E04\", \"E99\"],\n",
    "        \"Hospice\": [\"F01\"],\n",
    "        \"Nursing / Residental home\": [\"G01\", \"G02\", \"G03\", \"G04\"],\n",
    "        \"Day Centre premises\": [\"H01\"],\n",
    "        \"Resource Centre premises\": [\"J01\"],\n",
    "        \"Children and Family premises\": [\"K01\", \"K02\"],\n",
    "        \"Educational premises\": [\"L01\", \"L02\", \"L03\", \"L04\", \"L05\", \"L06\", \"L99\"],\n",
    "        \"Justice premises\": [\"M01\", \"M02\", \"M03\", \"M04\", \"M06\", \"M07\", \"M05\"],\n",
    "        \"Public locations\": [\"N01\", \"N02\", \"N03\", \"N04\", \"N05\"],\n",
    "        \"Other locations\": [\"X01\"]\n",
    "    }\n",
    "\n",
    "    # convert the dictionary to a dataframe\n",
    "    mapping_list = [(code, group) for group, codes in act_loc_type_mapping.items() for code in codes]\n",
    "    mapping_df = spark.createDataFrame(mapping_list, [\"ActLocTypeCode\", \"calc_LocationGroup\"])\n",
    "\n",
    "    # summarise contacts by location group\n",
    "    ( iapt_contacts_latest\n",
    "        # limit to attended contacts (5) or attended late contacts (6)\n",
    "        .filter(F.col(\"AttendOrDNACode\").isin(\"5\", \"6\"))\n",
    "\n",
    "        # add the location groups\n",
    "        .join(mapping_df, on=\"ActLocTypeCode\", how=\"left\")\n",
    "        \n",
    "        # count activity by location group\n",
    "        .groupBy(\"calc_LocationGroup\")\n",
    "        .agg(F.countDistinct(\"Unique_CareContactID\").alias(\"contacts_count\"))\n",
    "        .withColumn(\"contacts_rate\", F.col(\"contacts_count\") / total_contacts_count)\n",
    "        .withColumn(\"contacts_perc\", F.format_number(\"contacts_rate\", 2))\n",
    "        .orderBy(F.col(\"contacts_count\").desc())\n",
    "        .display()\n",
    "    )"
   ]
  },
  {
   "cell_type": "markdown",
   "metadata": {
    "application/vnd.databricks.v1+cell": {
     "cellMetadata": {},
     "inputWidgets": {},
     "nuid": "23999dcb-ffa0-4e89-b6af-704a78c6d791",
     "showTitle": false,
     "tableResultSettingsMap": {},
     "title": ""
    }
   },
   "source": [
    "OK, the list now looks like this:\n",
    "- 40% Other locations\n",
    "- 24% Patient main residence\n",
    "- 14% `null`\n",
    "- 9% Health centre\n",
    "- 5% Hospital\n",
    "- 4% Public locations\n",
    "- 2% GP\n",
    "\n",
    "It is not clear what the `Other` locations are, and why they aren't covered by the extensive list of coding. Query, is this data quality issue?\n",
    "\n",
    "The `null` records are also prominent, being the third most frequently recorded option. Again, raises queries re: data quality.\n",
    "\n",
    "Patient main residence seems quite high at 24% of contacts. Perhaps this is a result of telephone contacts?"
   ]
  },
  {
   "cell_type": "markdown",
   "metadata": {
    "application/vnd.databricks.v1+cell": {
     "cellMetadata": {
      "byteLimit": 2048000,
      "rowLimit": 10000
     },
     "inputWidgets": {},
     "nuid": "4488d495-0147-4a1d-ba6a-1a7168675c4f",
     "showTitle": false,
     "tableResultSettingsMap": {},
     "title": ""
    }
   },
   "source": [
    "# Matching variables\n",
    "We proposed the following measures as matching variables in the 'Matching Variables' .pptx file (July 2025):\n",
    "\n",
    "Referrals:\n",
    "- **Number of referrals dishcarged** each month (proxy for size of service).\n",
    "- Proportion of referrals for people **aged 25 years and younger** at referral.\n",
    "- Proportion of referrals for people **aged 60 years and older** at referral.\n",
    "- Proportion of referrals for people whose **gender identity is female**.\n",
    "- Proportion of referrals for people whose **LSOA of residence is among the 20% most deprived** in England.\n",
    "- Proportion of referrals for people whose **LSOA of residence is among the 20% least deprived** in England.\n",
    "- Proportion of referrals for people whose **broad ethnic background is `White`**.\n",
    "- Proportion of referrals where the **referral-to-treatment- wait time is within six weeks**.\n",
    "- Proportion of referrals where there was a **step-up to high-intensity** therapy.\n",
    "\n",
    "Contacts:\n",
    "- Proportion of care contacts where the **therapist has attained an NHS TT qualification**.\n",
    "- Proportion of care contacts conducted **on hospital premises**.\n",
    "- Proportion of care contacts conducted **face-to-face**.\n",
    "- Proportion of care contacts conducted **outside of weekdays, 9am to 5pm**.\n",
    "- Proportion of care contacts conducted **in English**.\n",
    "- Proportion of care contacts conducted **with an interpreter present**.\n",
    "- Proportion of care contacts delivered **as internet enabled therapy**."
   ]
  },
  {
   "cell_type": "markdown",
   "metadata": {
    "application/vnd.databricks.v1+cell": {
     "cellMetadata": {
      "byteLimit": 2048000,
      "rowLimit": 10000
     },
     "inputWidgets": {},
     "nuid": "ef7aba75-32b8-4054-b5d9-773b001aa31b",
     "showTitle": false,
     "tableResultSettingsMap": {},
     "title": ""
    }
   },
   "source": [
    "#### Referrals"
   ]
  },
  {
   "cell_type": "code",
   "execution_count": 0,
   "metadata": {
    "application/vnd.databricks.v1+cell": {
     "cellMetadata": {
      "byteLimit": 2048000,
      "rowLimit": 10000
     },
     "inputWidgets": {},
     "nuid": "dc9a3d58-74ae-48cb-b938-55f8b1ddb24d",
     "showTitle": false,
     "tableResultSettingsMap": {},
     "title": ""
    }
   },
   "outputs": [],
   "source": [
    "# remind myself what fields are and the data they hold\n",
    "iapt_referrals_latest.limit(10).display()"
   ]
  },
  {
   "cell_type": "code",
   "execution_count": 0,
   "metadata": {
    "application/vnd.databricks.v1+cell": {
     "cellMetadata": {
      "byteLimit": 2048000,
      "rowLimit": 10000
     },
     "inputWidgets": {},
     "nuid": "0fc445a0-c341-4eb7-b372-6de9b0d7034c",
     "showTitle": true,
     "tableResultSettingsMap": {},
     "title": "PROVISIONAL: Calculate matching variables"
    }
   },
   "outputs": [],
   "source": [
    "# I'm preparing this list of matching variables in advance of sign-off by TT clients to save time\n",
    "# NB, this section may need revisiting once final set of matching variables agreed\n",
    "matching_referrals = (\n",
    "    iapt_referrals_latest\n",
    "        # only work with records that have been discharged\n",
    "        .filter(F.col(\"ServDischDate\").isNotNull())\n",
    "        # coalesce gender identity and gender to get a single value - i.e. fill in gaps in gender identity with values from gender\n",
    "        .withColumn(\"calc_gender_identity\", F.coalesce(F.col(\"GenderIdentity\"), F.col(\"Gender\")))\n",
    "        # flag records where there is a step-up from low-intensity to high-intensity therapy\n",
    "        .withColumn(\"calc_step_up_therapy_flag\", F.when(F.col(\"LowIntensityTherapy_FirstDate\") < F.col(\"HighIntensityTherapy_FirstDate\"), True).otherwise(False))\n",
    "        # calculate matching variables\n",
    "        .groupBy(\"calc_Referral_Discharged_YM\", \"ODS_Code\", \"Name\").agg(\n",
    "\n",
    "            # Total referrals discharged in the month\n",
    "            F.countDistinct(\"PathwayID\").alias(\"discharges_count\"),\n",
    "\n",
    "            # Outcome 1 - proportion of referrals where 6 or more completed appointments (1 assessment and 5 treatment)\n",
    "            F.countDistinct(F.when(F.col(\"TreatmentCareContact_Count\") >= 6, F.col(\"PathwayID\"))).alias(\"o1_discharges_6_or_more_completed_appointments\"),\n",
    "\n",
    "            # Matching 1 - referrals discharged for people aged 25 years and younger on the date of referral\n",
    "            F.countDistinct(F.when(F.col(\"Age_ReferralRequest_ReceivedDate\") <= 25, F.col(\"PathwayID\"))).alias(\"m1_discharges_aged_under_26_at_referral\"),\n",
    "\n",
    "            # Matching 2 - referrals discharged for people aged 60 years and older on the date of referral\n",
    "            F.countDistinct(F.when(F.col(\"Age_ReferralRequest_ReceivedDate\") >= 60, F.col(\"PathwayID\"))).alias(\"m2_discharges_aged_60_plus_at_referral\"),\n",
    "\n",
    "            # Matching 3 - referrals discharged for people whose gender identity is female (2)\n",
    "            F.countDistinct(F.when(F.col(\"calc_gender_identity\") == \"2\", F.col(\"PathwayID\"))).alias(\"m3_discharges_female\"),\n",
    "\n",
    "            # Matching 4 - referrals discharged for people whose LSOA of residence is in the 20% most deprived\n",
    "            F.countDistinct(F.when(F.col(\"IndicesOfDeprivationDecile\").isin(1,2), F.col(\"PathwayID\"))).alias(\"m4_discharges_20pc_most_deprived\"),\n",
    "\n",
    "            # Matching 5 - referrals discharged for people whose LSOA of residence is in the 20% least deprived\n",
    "            F.countDistinct(F.when(F.col(\"IndicesOfDeprivationDecile\").isin(9,10), F.col(\"PathwayID\"))).alias(\"m5_discharges_20pc_least_deprived\"),\n",
    "\n",
    "            # Matching 6 - referrals discharged for people whose ethnicity is 'White', i.e. codes A, B or C\n",
    "            F.countDistinct(F.when(F.col(\"Validated_EthnicCategory\").isin(\"A\", \"B\", \"C\"), F.col(\"PathwayID\"))).alias(\"m6_discharges_white_ethnicity\"),\n",
    "\n",
    "            # Matching 7 - referrals discharged where there was a step-up from low-intensity to high-intensity therapy\n",
    "            F.countDistinct(F.when(F.col(\"calc_step_up_therapy_flag\") == True, F.col(\"PathwayID\"))).alias(\"m7_discharges_step_up_therapy\")\n",
    "        )\n",
    ")\n",
    "\n",
    "if flag_data_display:\n",
    "    matching_referrals.display()"
   ]
  },
  {
   "cell_type": "code",
   "execution_count": 0,
   "metadata": {
    "application/vnd.databricks.v1+cell": {
     "cellMetadata": {
      "byteLimit": 2048000,
      "rowLimit": 10000
     },
     "inputWidgets": {},
     "nuid": "0b0468dc-bb52-4ae4-9b7a-d7fa910ecd2d",
     "showTitle": true,
     "tableResultSettingsMap": {},
     "title": "Export matching referral variables"
    }
   },
   "outputs": [],
   "source": [
    "if flag_data_export:\n",
    "    matching_referrals.write.mode(\"overwrite\").parquet(eval_path + \"matching_referrals.parquet\")"
   ]
  },
  {
   "cell_type": "markdown",
   "metadata": {
    "application/vnd.databricks.v1+cell": {
     "cellMetadata": {
      "byteLimit": 2048000,
      "rowLimit": 10000
     },
     "inputWidgets": {},
     "nuid": "72e24028-47d8-4369-b1a8-645dfcf49e30",
     "showTitle": false,
     "tableResultSettingsMap": {},
     "title": ""
    }
   },
   "source": [
    "#### Contacts\n",
    "\n",
    "Contacts:\n",
    "- Proportion of care contacts where the **therapist has attained an NHS TT qualification**.\n",
    "- Proportion of care contacts conducted **on hospital premises**.\n",
    "- Proportion of care contacts conducted **face-to-face**.\n",
    "- Proportion of care contacts conducted **outside of weekdays, 9am to 5pm**.\n",
    "- Proportion of care contacts conducted **in English**.\n",
    "- Proportion of care contacts conducted **with an interpreter present**.\n",
    "- Proportion of care contacts delivered **as internet enabled therapy**.\n",
    "- Proportion of care contacts delivered **to an individual patient**."
   ]
  },
  {
   "cell_type": "code",
   "execution_count": 0,
   "metadata": {
    "application/vnd.databricks.v1+cell": {
     "cellMetadata": {
      "byteLimit": 2048000,
      "rowLimit": 10000
     },
     "inputWidgets": {},
     "nuid": "335b7790-9eed-4d45-a02d-753fce8d6b25",
     "showTitle": false,
     "tableResultSettingsMap": {},
     "title": ""
    }
   },
   "outputs": [],
   "source": [
    "if flag_data_display:\n",
    "  # remind myself what fields are and the data they hold\n",
    "  iapt_contacts_latest.limit(10).display()"
   ]
  },
  {
   "cell_type": "code",
   "execution_count": 0,
   "metadata": {
    "application/vnd.databricks.v1+cell": {
     "cellMetadata": {
      "byteLimit": 2048000,
      "rowLimit": 10000
     },
     "inputWidgets": {},
     "nuid": "17d24adc-cf52-467e-86bb-484b67a0b250",
     "showTitle": true,
     "tableResultSettingsMap": {},
     "title": "PROVISIONAL: Calculate matching variables (contacts)"
    }
   },
   "outputs": [],
   "source": [
    "matching_contacts = (\n",
    "    iapt_contacts_latest\n",
    "        \n",
    "        # limit to attended contacts (5) or attended late contacts (6)\n",
    "        .filter(F.col(\"AttendOrDNACode\").isin(\"5\", \"6\"))\n",
    "\n",
    "        # calculate matching variables\n",
    "        .groupBy(\"calc_Contact_YM\", \"ODS_Code\", \"Name\").agg(\n",
    "\n",
    "            # denominator\n",
    "            F.countDistinct(\"Unique_CareContactID\").alias(\"contacts_count\"),\n",
    "\n",
    "            # Matching 1 - contacts where the therapist attained an NHS TT qualification\n",
    "            #F.countDistinct(F.when(F.col(\"TherapistAttainedNHS_TT_Qualification\") == True, F.col(\"Unique_CareContactID\"))).alias(\"m1_contacts_therapist_attained_nhs_tt_qualification\")\n",
    "\n",
    "            # Matching 2 - contacts conducted on hospital premises\n",
    "            F.countDistinct(F.when(\n",
    "                F.col(\"ActLocTypeCode\").isin(\"E01\", \"E02\", \"E03\", \"E04\", \"E99\"), \n",
    "                F.col(\"Unique_CareContactID\")\n",
    "                )\n",
    "            ).alias(\"m2_contacts_hospital_premises\"),\n",
    "\n",
    "            # Matching 3 - contacts conducted face-to-face\n",
    "            F.countDistinct(F.when(\n",
    "                F.col(\"ConsMechanism\").isin(\"01\"),\n",
    "                F.col(\"Unique_CareContactID\")\n",
    "                )\n",
    "            ).alias(\"m3_contacts_face_to_face\"),\n",
    "\n",
    "            # Matching 4 - contacts conducted weekdays, 9am-5pm\n",
    "            F.countDistinct(F.when(\n",
    "                F.weekday(F.col(\"CareContDate\")).isin([0, 1, 2, 3, 4]) & \n",
    "                F.hour(F.col(\"CareContTime\")).between(9, 17),\n",
    "                F.col(\"Unique_CareContactID\")\n",
    "                )\n",
    "            ).alias(\"m4_contacts_outside_weekdays_9am_5pm\"),\n",
    "\n",
    "            # Matching 5 - contacts conducted in English,\n",
    "            F.countDistinct(F.when(\n",
    "                F.col(\"LanguageCodeTreat\").isin([\"eng\"]),\n",
    "                F.col(\"Unique_CareContactID\")\n",
    "                )\n",
    "            ).alias(\"m5_contacts_conducted_in_english\"),\n",
    "\n",
    "            # Matching 6 - contacts with interpreter present\n",
    "            F.countDistinct(F.when(\n",
    "                F.col(\"InterpreterPresentInd\").isin([1, 2, 3]),\n",
    "                F.col(\"Unique_CareContactID\")\n",
    "                )\n",
    "            ).alias(\"m6_contacts_interpreter_present\")\n",
    "        )\n",
    ")"
   ]
  },
  {
   "cell_type": "code",
   "execution_count": 0,
   "metadata": {
    "application/vnd.databricks.v1+cell": {
     "cellMetadata": {
      "byteLimit": 2048000,
      "rowLimit": 10000
     },
     "inputWidgets": {},
     "nuid": "a08167ff-7d9c-4641-80c9-52104c219c0c",
     "showTitle": true,
     "tableResultSettingsMap": {},
     "title": "Export matching contact variables"
    }
   },
   "outputs": [],
   "source": [
    "if flag_data_export:\n",
    "    matching_referrals.write.mode(\"overwrite\").parquet(eval_path + \"matching_contacts.parquet\")"
   ]
  },
  {
   "cell_type": "code",
   "execution_count": 0,
   "metadata": {
    "application/vnd.databricks.v1+cell": {
     "cellMetadata": {
      "byteLimit": 2048000,
      "rowLimit": 10000
     },
     "inputWidgets": {},
     "nuid": "d4246325-d0d1-42ea-8309-d1cca53fb7c4",
     "showTitle": true,
     "tableResultSettingsMap": {},
     "title": "Mean waiting time (ref -> treatment)"
    }
   },
   "outputs": [],
   "source": [
    "# NB, this is an early attempt at working with data, so may not be the best approach.\n",
    "from pyspark.sql.functions import col, datediff, mean\n",
    "\n",
    "# Filter for usepathway_flag = 'True'\n",
    "filtered_df = df.filter(col(\"UsePathway_Flag\") == 'True')\n",
    "\n",
    "# Calculate the mean of TherapySEssionFirstDate - ReferralRequestReceivedDate\n",
    "mean_diff = filtered_df.select(mean(datediff(col(\"TherapySEssionFirstDate\"), col(\"ReferralRequestReceivedDate\"))).alias(\"mean_diff\"))\n",
    "\n",
    "display(mean_diff)"
   ]
  }
 ],
 "metadata": {
  "application/vnd.databricks.v1+notebook": {
   "computePreferences": null,
   "dashboards": [],
   "environmentMetadata": {
    "base_environment": "",
    "environment_version": "2"
   },
   "inputWidgetPreferences": null,
   "language": "python",
   "notebookMetadata": {
    "pythonIndentUnit": 4
   },
   "notebookName": "Talking Therapies",
   "widgets": {}
  },
  "language_info": {
   "name": "python"
  }
 },
 "nbformat": 4,
 "nbformat_minor": 0
}
